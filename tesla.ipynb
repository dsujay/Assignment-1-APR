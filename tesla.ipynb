# Linear regression on TSLA.csv with plots
# Output files:
# - linear_regression_metrics.txt
# - predictions_preview.csv
# - pred_vs_actual.png
# - residuals_vs_pred.png
# - actual_vs_pred_timeseries.png

import pandas as pd
import numpy as np
import matplotlib.pyplot as plt
from sklearn.model_selection import train_test_split
from sklearn.linear_model import LinearRegression
from sklearn.metrics import mean_squared_error, r2_score
import json

# 1) Load
df = pd.read_csv('TSLA.csv')

# 2) Parse Date and sort
if 'Date' in df.columns:
    df['Date'] = pd.to_datetime(df['Date'])
    df = df.sort_values('Date').reset_index(drop=True)

# 3) Features and target
features = ['Open', 'High', 'Low', 'Volume']
X = df[features]
y = df['Close']

# 4) Split
X_train, X_test, y_train, y_test = train_test_split(
    X, y, test_size=0.2, random_state=42
)

# 5) Train
model = LinearRegression()
model.fit(X_train, y_train)

# 6) Predict and evaluate
y_pred = model.predict(X_test)
rmse = np.sqrt(mean_squared_error(y_test, y_pred))
r2 = r2_score(y_test, y_pred)

# 7) Save metrics
metrics = {
    'R2': float(r2),
    'RMSE': float(rmse),
    'Intercept': float(model.intercept_),
    'Coefficients': dict(zip(features, map(float, model.coef_)))
}
with open('linear_regression_metrics.txt', 'w') as f:
    f.write(json.dumps(metrics, indent=2))

# 8a) Predicted vs Actual
plt.figure(figsize=(7,6))
plt.scatter(y_test, y_pred, s=18, alpha=0.6, label='Predictions')
min_v = float(min(y_test.min(), y_pred.min()))
max_v = float(max(y_test.max(), y_pred.max()))
plt.plot([min_v, max_v], [min_v, max_v], 'r--', label='Ideal')
plt.xlabel('Actual Close')
plt.ylabel('Predicted Close')
plt.title('TSLA Close: Predicted vs Actual')
plt.legend()
plt.tight_layout()
plt.savefig('pred_vs_actual.png', dpi=150)
plt.close()

# 8b) Residuals vs Predicted
residuals = y_test - y_pred
plt.figure(figsize=(7,6))
plt.scatter(y_pred, residuals, s=18, alpha=0.6)
plt.axhline(0, color='r', linestyle='--')
plt.xlabel('Predicted Close')
plt.ylabel('Residuals (Actual - Pred)')
plt.title('Residuals vs Predicted')
plt.tight_layout()
plt.savefig('residuals_vs_pred.png', dpi=150)
plt.close()

# 8c) Time-series overlay on test fold
test_index = X_test.index
plot_df = pd.DataFrame({
    'Date': df.loc[test_index, 'Date'].values,
    'Actual': y_test.values,
    'Predicted': y_pred
}).sort_values('Date')

plt.figure(figsize=(10,6))
plt.plot(plot_df['Date'], plot_df['Actual'], label='Actual', linewidth=2)
plt.plot(plot_df['Date'], plot_df['Predicted'], label='Predicted', linewidth=2, alpha=0.8)
plt.xlabel('Date')
plt.ylabel('Close Price')
plt.title('TSLA Close: Actual vs Predicted (Test Fold)')
plt.legend()
plt.tight_layout()
plt.savefig('actual_vs_pred_timeseries.png', dpi=150)
plt.close()

# 9) Save preview
plot_df[['Date','Actual','Predicted']].head(12).to_csv('predictions_preview.csv', index=False)

print('Done. Metrics written to linear_regression_metrics.txt and plots saved as PNGs.')
